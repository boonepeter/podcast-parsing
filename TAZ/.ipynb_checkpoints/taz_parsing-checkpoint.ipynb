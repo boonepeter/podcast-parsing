{
 "cells": [
  {
   "cell_type": "code",
   "execution_count": 7,
   "metadata": {},
   "outputs": [],
   "source": [
    "import os\n",
    "import pandas as pd"
   ]
  },
  {
   "cell_type": "code",
   "execution_count": 8,
   "metadata": {},
   "outputs": [],
   "source": [
    "taz = pd.read_csv(\"TAZ.csv\")"
   ]
  },
  {
   "cell_type": "code",
   "execution_count": 9,
   "metadata": {},
   "outputs": [],
   "source": [
    "taz.drop(columns=\"Unnamed: 0\", inplace=True)"
   ]
  },
  {
   "cell_type": "code",
   "execution_count": 33,
   "metadata": {},
   "outputs": [],
   "source": [
    "taz['speaker'] = taz.speaker.str.lower()\n",
    "taz['lines'] = taz.lines.str.lower()\n",
    "taz = taz.dropna(0, 'any')"
   ]
  },
  {
   "cell_type": "code",
   "execution_count": 62,
   "metadata": {},
   "outputs": [
    {
     "name": "stdout",
     "output_type": "stream",
     "text": [
      "skip: 19\n",
      "skip: 20\n",
      "skip: 23\n",
      "skip: 24\n",
      "skip: 25\n",
      "skip: 26\n",
      "skip: 27\n",
      "skip: 29\n",
      "skip: 30\n",
      "skip: 47\n",
      "skip: 53\n",
      "skip: 59\n",
      "skip: 61\n",
      "skip: 62\n",
      "skip: 63\n",
      "skip: 64\n",
      "skip: 65\n",
      "skip: 66\n",
      "skip: 69\n",
      "skip: 90\n",
      "skip: 93\n",
      "skip: 96\n",
      "skip: 2016\n",
      "skip: 2017\n",
      "skip: Candlenights in Tacoma Live Show\n",
      "skip: Live in Austin!\n",
      "skip: Live in San Francisco!\n",
      "skip: MaxFunCon East Live\n",
      "skip: The Adventure Zone Presents: The Great Switcheroo\n",
      "skip: The The Adventure Zone Zone: Balance Finale Edition\n",
      "skip: The The Adventure Zone Zone: Experiments Post-Mortem\n"
     ]
    }
   ],
   "source": [
    "for ep in taz.episode.unique():\n",
    "    single = taz[taz.episode == ep]\n",
    "    line_number = single[single.speaker.str.contains(\"theme\") & (single.line_num < 50)].line_num.values\n",
    "    if line_number.size == 0:\n",
    "        print(f\"skip: {ep}\")\n",
    "        continue\n",
    "    line_number = max(line_number) + 1\n",
    "    index_to_drop = taz[(taz.episode == ep) & (taz.line_num < line_number)].index\n",
    "    taz.drop(index=index_to_drop, inplace=True)"
   ]
  },
  {
   "cell_type": "code",
   "execution_count": 63,
   "metadata": {},
   "outputs": [
    {
     "data": {
      "text/html": [
       "<div>\n",
       "<style scoped>\n",
       "    .dataframe tbody tr th:only-of-type {\n",
       "        vertical-align: middle;\n",
       "    }\n",
       "\n",
       "    .dataframe tbody tr th {\n",
       "        vertical-align: top;\n",
       "    }\n",
       "\n",
       "    .dataframe thead th {\n",
       "        text-align: right;\n",
       "    }\n",
       "</style>\n",
       "<table border=\"1\" class=\"dataframe\">\n",
       "  <thead>\n",
       "    <tr style=\"text-align: right;\">\n",
       "      <th></th>\n",
       "      <th>line_num</th>\n",
       "      <th>episode</th>\n",
       "      <th>speaker</th>\n",
       "      <th>lines</th>\n",
       "    </tr>\n",
       "  </thead>\n",
       "  <tbody>\n",
       "    <tr>\n",
       "      <th>10</th>\n",
       "      <td>10</td>\n",
       "      <td>1</td>\n",
       "      <td>{0</td>\n",
       "      <td>41}</td>\n",
       "    </tr>\n",
       "    <tr>\n",
       "      <th>11</th>\n",
       "      <td>11</td>\n",
       "      <td>1</td>\n",
       "      <td>griffin</td>\n",
       "      <td>so, well, let’s talk about the classes we’re ...</td>\n",
       "    </tr>\n",
       "    <tr>\n",
       "      <th>12</th>\n",
       "      <td>12</td>\n",
       "      <td>1</td>\n",
       "      <td>travis</td>\n",
       "      <td>we’re gonna get just demolished.</td>\n",
       "    </tr>\n",
       "    <tr>\n",
       "      <th>13</th>\n",
       "      <td>13</td>\n",
       "      <td>1</td>\n",
       "      <td>griffin</td>\n",
       "      <td>yeah, you’re gonna get wrecked. i’ll be dunge...</td>\n",
       "    </tr>\n",
       "    <tr>\n",
       "      <th>14</th>\n",
       "      <td>14</td>\n",
       "      <td>1</td>\n",
       "      <td>justin</td>\n",
       "      <td>[quietly] tell that to nirvana.</td>\n",
       "    </tr>\n",
       "  </tbody>\n",
       "</table>\n",
       "</div>"
      ],
      "text/plain": [
       "    line_num episode  speaker  \\\n",
       "10        10       1       {0   \n",
       "11        11       1  griffin   \n",
       "12        12       1   travis   \n",
       "13        13       1  griffin   \n",
       "14        14       1   justin   \n",
       "\n",
       "                                                lines  \n",
       "10                                                41}  \n",
       "11   so, well, let’s talk about the classes we’re ...  \n",
       "12                   we’re gonna get just demolished.  \n",
       "13   yeah, you’re gonna get wrecked. i’ll be dunge...  \n",
       "14                    [quietly] tell that to nirvana.  "
      ]
     },
     "execution_count": 63,
     "metadata": {},
     "output_type": "execute_result"
    }
   ],
   "source": [
    "taz.head()"
   ]
  },
  {
   "cell_type": "code",
   "execution_count": null,
   "metadata": {},
   "outputs": [],
   "source": []
  },
  {
   "cell_type": "code",
   "execution_count": null,
   "metadata": {},
   "outputs": [],
   "source": []
  },
  {
   "cell_type": "code",
   "execution_count": null,
   "metadata": {},
   "outputs": [],
   "source": []
  },
  {
   "cell_type": "code",
   "execution_count": 28,
   "metadata": {},
   "outputs": [
    {
     "data": {
      "text/plain": [
       "['1',\n",
       " '2',\n",
       " '3',\n",
       " '4',\n",
       " '5',\n",
       " '6',\n",
       " '7',\n",
       " '8',\n",
       " '9',\n",
       " '10',\n",
       " '11',\n",
       " '12',\n",
       " '13',\n",
       " '14',\n",
       " '15',\n",
       " '16',\n",
       " '17',\n",
       " '18',\n",
       " '19',\n",
       " '20',\n",
       " '20',\n",
       " '21',\n",
       " '22',\n",
       " '22',\n",
       " '23',\n",
       " '24',\n",
       " '25',\n",
       " '26',\n",
       " '28',\n",
       " '31',\n",
       " '32',\n",
       " '33',\n",
       " '34',\n",
       " '35',\n",
       " '36',\n",
       " '37',\n",
       " '38',\n",
       " '39',\n",
       " '40',\n",
       " '41',\n",
       " '42',\n",
       " '43',\n",
       " '44',\n",
       " '45',\n",
       " '46',\n",
       " '46',\n",
       " '47',\n",
       " '48',\n",
       " '48',\n",
       " '49',\n",
       " '50',\n",
       " '51',\n",
       " '52',\n",
       " '52',\n",
       " '54',\n",
       " '54',\n",
       " '55',\n",
       " '56',\n",
       " '57',\n",
       " '58',\n",
       " '60',\n",
       " '61',\n",
       " '62',\n",
       " '63',\n",
       " '64',\n",
       " '65',\n",
       " '67',\n",
       " '68',\n",
       " '70',\n",
       " '71',\n",
       " '72',\n",
       " '73',\n",
       " '74',\n",
       " '75',\n",
       " '76',\n",
       " '77',\n",
       " '78',\n",
       " '79',\n",
       " '80',\n",
       " '81',\n",
       " '82',\n",
       " '83',\n",
       " '84',\n",
       " '85',\n",
       " '86',\n",
       " '87',\n",
       " '88',\n",
       " '89',\n",
       " '91',\n",
       " '92',\n",
       " '93',\n",
       " '94',\n",
       " '95',\n",
       " '2016',\n",
       " '2017',\n",
       " 'Dallas Live Show',\n",
       " 'Live Boston Stunt Spectacular',\n",
       " 'Nashville Live Show',\n",
       " 'SDCC San Diego Live Show',\n",
       " 'The Adventure Zone Presents: The Great Switcheroo',\n",
       " 'The The Adventure Zone Zone: Balance Finale Edition']"
      ]
     },
     "execution_count": 28,
     "metadata": {},
     "output_type": "execute_result"
    }
   ],
   "source": [
    "taz[taz.speaker.str.contains(\"theme|THEME|Theme\") & (taz.line_num < 50)].episode.tolist()"
   ]
  },
  {
   "cell_type": "code",
   "execution_count": null,
   "metadata": {},
   "outputs": [],
   "source": []
  }
 ],
 "metadata": {
  "kernelspec": {
   "display_name": "Python 3",
   "language": "python",
   "name": "python3"
  },
  "language_info": {
   "codemirror_mode": {
    "name": "ipython",
    "version": 3
   },
   "file_extension": ".py",
   "mimetype": "text/x-python",
   "name": "python",
   "nbconvert_exporter": "python",
   "pygments_lexer": "ipython3",
   "version": "3.6.8"
  }
 },
 "nbformat": 4,
 "nbformat_minor": 2
}
