{
 "cells": [
  {
   "cell_type": "code",
   "execution_count": 98,
   "metadata": {},
   "outputs": [],
   "source": [
    "import os\n",
    "import pandas as pd\n",
    "import re\n",
    "import numpy as np\n",
    "from sklearn.feature_extraction import text\n",
    "import gensim\n",
    "import seaborn as sns\n",
    "import matplotlib.pyplot as plt"
   ]
  },
  {
   "cell_type": "code",
   "execution_count": 31,
   "metadata": {},
   "outputs": [],
   "source": [
    "taz = pd.read_csv(\"TAZ.csv\")"
   ]
  },
  {
   "cell_type": "code",
   "execution_count": 32,
   "metadata": {},
   "outputs": [],
   "source": [
    "taz.drop(columns=\"Unnamed: 0\", inplace=True)"
   ]
  },
  {
   "cell_type": "code",
   "execution_count": 33,
   "metadata": {},
   "outputs": [],
   "source": [
    "taz['speaker'] = taz.speaker.str.lower().str.strip()\n",
    "taz['lines'] = taz.lines.str.lower()\n",
    "taz = taz.dropna(0, 'any')"
   ]
  },
  {
   "cell_type": "code",
   "execution_count": 34,
   "metadata": {},
   "outputs": [
    {
     "name": "stdout",
     "output_type": "stream",
     "text": [
      "skip: 66\n",
      "skip: 90\n",
      "skip: 93\n",
      "skip: 96\n",
      "skip: 2017\n",
      "skip: Live in Austin!\n",
      "skip: Live in San Francisco!\n",
      "skip: MaxFunCon East Live\n"
     ]
    }
   ],
   "source": [
    "for ep in taz.episode.unique():\n",
    "    single = taz[taz.episode == ep]\n",
    "    line_number = single[single.speaker.str.contains(\"theme|0|1|2|3|4|5|6|7|8|9\") & (single.line_num < 50)].line_num.values\n",
    "    if line_number.size == 0:\n",
    "        print(f\"skip: {ep}\")\n",
    "        index_to_drop = taz[(taz.episode == ep) & (taz.line_num < 5)].index\n",
    "    else:\n",
    "        line_number = max(line_number) + 1\n",
    "        index_to_drop = taz[(taz.episode == ep) & (taz.line_num < line_number)].index\n",
    "    taz.drop(index=index_to_drop, inplace=True)"
   ]
  },
  {
   "cell_type": "code",
   "execution_count": 40,
   "metadata": {},
   "outputs": [],
   "source": [
    "taz.speaker = taz.speaker.str.replace(pat=\"^director\", repl=\"the director\")"
   ]
  },
  {
   "cell_type": "code",
   "execution_count": 41,
   "metadata": {},
   "outputs": [],
   "source": [
    "grouped = taz.groupby(\"speaker\").count().sort_values(by=\"line_num\", ascending=False)"
   ]
  },
  {
   "cell_type": "code",
   "execution_count": 43,
   "metadata": {},
   "outputs": [
    {
     "data": {
      "text/html": [
       "<div>\n",
       "<style scoped>\n",
       "    .dataframe tbody tr th:only-of-type {\n",
       "        vertical-align: middle;\n",
       "    }\n",
       "\n",
       "    .dataframe tbody tr th {\n",
       "        vertical-align: top;\n",
       "    }\n",
       "\n",
       "    .dataframe thead th {\n",
       "        text-align: right;\n",
       "    }\n",
       "</style>\n",
       "<table border=\"1\" class=\"dataframe\">\n",
       "  <thead>\n",
       "    <tr style=\"text-align: right;\">\n",
       "      <th></th>\n",
       "      <th>line_num</th>\n",
       "      <th>episode</th>\n",
       "      <th>lines</th>\n",
       "    </tr>\n",
       "    <tr>\n",
       "      <th>speaker</th>\n",
       "      <th></th>\n",
       "      <th></th>\n",
       "      <th></th>\n",
       "    </tr>\n",
       "  </thead>\n",
       "  <tbody>\n",
       "    <tr>\n",
       "      <th>griffin</th>\n",
       "      <td>22837</td>\n",
       "      <td>22837</td>\n",
       "      <td>22837</td>\n",
       "    </tr>\n",
       "    <tr>\n",
       "      <th>travis</th>\n",
       "      <td>12472</td>\n",
       "      <td>12472</td>\n",
       "      <td>12472</td>\n",
       "    </tr>\n",
       "    <tr>\n",
       "      <th>justin</th>\n",
       "      <td>9563</td>\n",
       "      <td>9563</td>\n",
       "      <td>9563</td>\n",
       "    </tr>\n",
       "    <tr>\n",
       "      <th>clint</th>\n",
       "      <td>9191</td>\n",
       "      <td>9191</td>\n",
       "      <td>9191</td>\n",
       "    </tr>\n",
       "    <tr>\n",
       "      <th>magnus</th>\n",
       "      <td>3911</td>\n",
       "      <td>3911</td>\n",
       "      <td>3911</td>\n",
       "    </tr>\n",
       "    <tr>\n",
       "      <th>taako</th>\n",
       "      <td>3345</td>\n",
       "      <td>3345</td>\n",
       "      <td>3345</td>\n",
       "    </tr>\n",
       "    <tr>\n",
       "      <th>merle</th>\n",
       "      <td>2533</td>\n",
       "      <td>2533</td>\n",
       "      <td>2533</td>\n",
       "    </tr>\n",
       "    <tr>\n",
       "      <th>aubrey</th>\n",
       "      <td>715</td>\n",
       "      <td>715</td>\n",
       "      <td>715</td>\n",
       "    </tr>\n",
       "    <tr>\n",
       "      <th>stuart</th>\n",
       "      <td>696</td>\n",
       "      <td>696</td>\n",
       "      <td>696</td>\n",
       "    </tr>\n",
       "    <tr>\n",
       "      <th>duck</th>\n",
       "      <td>636</td>\n",
       "      <td>636</td>\n",
       "      <td>636</td>\n",
       "    </tr>\n",
       "    <tr>\n",
       "      <th>the director</th>\n",
       "      <td>517</td>\n",
       "      <td>517</td>\n",
       "      <td>517</td>\n",
       "    </tr>\n",
       "    <tr>\n",
       "      <th>ned</th>\n",
       "      <td>508</td>\n",
       "      <td>508</td>\n",
       "      <td>508</td>\n",
       "    </tr>\n",
       "    <tr>\n",
       "      <th>elliott</th>\n",
       "      <td>454</td>\n",
       "      <td>454</td>\n",
       "      <td>454</td>\n",
       "    </tr>\n",
       "    <tr>\n",
       "      <th>angus</th>\n",
       "      <td>429</td>\n",
       "      <td>429</td>\n",
       "      <td>429</td>\n",
       "    </tr>\n",
       "    <tr>\n",
       "      <th>lucas</th>\n",
       "      <td>298</td>\n",
       "      <td>298</td>\n",
       "      <td>298</td>\n",
       "    </tr>\n",
       "    <tr>\n",
       "      <th>remy</th>\n",
       "      <td>284</td>\n",
       "      <td>284</td>\n",
       "      <td>284</td>\n",
       "    </tr>\n",
       "    <tr>\n",
       "      <th>zhubin</th>\n",
       "      <td>272</td>\n",
       "      <td>272</td>\n",
       "      <td>272</td>\n",
       "    </tr>\n",
       "    <tr>\n",
       "      <th>hurley</th>\n",
       "      <td>222</td>\n",
       "      <td>222</td>\n",
       "      <td>222</td>\n",
       "    </tr>\n",
       "    <tr>\n",
       "      <th>errol</th>\n",
       "      <td>213</td>\n",
       "      <td>213</td>\n",
       "      <td>213</td>\n",
       "    </tr>\n",
       "    <tr>\n",
       "      <th>mama</th>\n",
       "      <td>209</td>\n",
       "      <td>209</td>\n",
       "      <td>209</td>\n",
       "    </tr>\n",
       "    <tr>\n",
       "      <th>barclay</th>\n",
       "      <td>183</td>\n",
       "      <td>183</td>\n",
       "      <td>183</td>\n",
       "    </tr>\n",
       "    <tr>\n",
       "      <th>lup</th>\n",
       "      <td>180</td>\n",
       "      <td>180</td>\n",
       "      <td>180</td>\n",
       "    </tr>\n",
       "    <tr>\n",
       "      <th>killian</th>\n",
       "      <td>174</td>\n",
       "      <td>174</td>\n",
       "      <td>174</td>\n",
       "    </tr>\n",
       "    <tr>\n",
       "      <th>nadiya</th>\n",
       "      <td>171</td>\n",
       "      <td>171</td>\n",
       "      <td>171</td>\n",
       "    </tr>\n",
       "  </tbody>\n",
       "</table>\n",
       "</div>"
      ],
      "text/plain": [
       "              line_num  episode  lines\n",
       "speaker                               \n",
       "griffin          22837    22837  22837\n",
       "travis           12472    12472  12472\n",
       "justin            9563     9563   9563\n",
       "clint             9191     9191   9191\n",
       "magnus            3911     3911   3911\n",
       "taako             3345     3345   3345\n",
       "merle             2533     2533   2533\n",
       "aubrey             715      715    715\n",
       "stuart             696      696    696\n",
       "duck               636      636    636\n",
       "the director       517      517    517\n",
       "ned                508      508    508\n",
       "elliott            454      454    454\n",
       "angus              429      429    429\n",
       "lucas              298      298    298\n",
       "remy               284      284    284\n",
       "zhubin             272      272    272\n",
       "hurley             222      222    222\n",
       "errol              213      213    213\n",
       "mama               209      209    209\n",
       "barclay            183      183    183\n",
       "lup                180      180    180\n",
       "killian            174      174    174\n",
       "nadiya             171      171    171"
      ]
     },
     "execution_count": 43,
     "metadata": {},
     "output_type": "execute_result"
    }
   ],
   "source": [
    "grouped.head(24)"
   ]
  },
  {
   "cell_type": "code",
   "execution_count": 114,
   "metadata": {},
   "outputs": [],
   "source": [
    "corpus = pd.DataFrame(index = grouped.head(24).index.tolist())"
   ]
  },
  {
   "cell_type": "code",
   "execution_count": 48,
   "metadata": {},
   "outputs": [],
   "source": [
    "pattern = re.compile(r\"[^a-z0-9 ]\")\n",
    "taz.lines = taz.lines.str.replace(pat=pattern, repl=\"\")"
   ]
  },
  {
   "cell_type": "code",
   "execution_count": 65,
   "metadata": {},
   "outputs": [],
   "source": [
    "corpus['lines'] = \"\""
   ]
  },
  {
   "cell_type": "code",
   "execution_count": 66,
   "metadata": {},
   "outputs": [],
   "source": [
    "for speaker in corpus.index:\n",
    "    for line in taz[taz.speaker == speaker].lines:\n",
    "        corpus.loc[speaker].lines += line"
   ]
  },
  {
   "cell_type": "code",
   "execution_count": 68,
   "metadata": {},
   "outputs": [],
   "source": [
    "corpus.lines = corpus.lines.str.split()"
   ]
  },
  {
   "cell_type": "code",
   "execution_count": 70,
   "metadata": {},
   "outputs": [
    {
     "data": {
      "text/html": [
       "<div>\n",
       "<style scoped>\n",
       "    .dataframe tbody tr th:only-of-type {\n",
       "        vertical-align: middle;\n",
       "    }\n",
       "\n",
       "    .dataframe tbody tr th {\n",
       "        vertical-align: top;\n",
       "    }\n",
       "\n",
       "    .dataframe thead th {\n",
       "        text-align: right;\n",
       "    }\n",
       "</style>\n",
       "<table border=\"1\" class=\"dataframe\">\n",
       "  <thead>\n",
       "    <tr style=\"text-align: right;\">\n",
       "      <th></th>\n",
       "      <th>lines</th>\n",
       "    </tr>\n",
       "  </thead>\n",
       "  <tbody>\n",
       "    <tr>\n",
       "      <th>griffin</th>\n",
       "      <td>[so, well, lets, talk, about, the, classes, we...</td>\n",
       "    </tr>\n",
       "    <tr>\n",
       "      <th>travis</th>\n",
       "      <td>[were, gonna, get, just, demolished, yep, im, ...</td>\n",
       "    </tr>\n",
       "    <tr>\n",
       "      <th>justin</th>\n",
       "      <td>[quietly, tell, that, to, nirvana, laughing, t...</td>\n",
       "    </tr>\n",
       "    <tr>\n",
       "      <th>clint</th>\n",
       "      <td>[hes, actually, hes, actually, taako, the, les...</td>\n",
       "    </tr>\n",
       "    <tr>\n",
       "      <th>magnus</th>\n",
       "      <td>[no, shh, shh, shh, now, excuse, me, sir, gobl...</td>\n",
       "    </tr>\n",
       "  </tbody>\n",
       "</table>\n",
       "</div>"
      ],
      "text/plain": [
       "                                                     lines\n",
       "griffin  [so, well, lets, talk, about, the, classes, we...\n",
       "travis   [were, gonna, get, just, demolished, yep, im, ...\n",
       "justin   [quietly, tell, that, to, nirvana, laughing, t...\n",
       "clint    [hes, actually, hes, actually, taako, the, les...\n",
       "magnus   [no, shh, shh, shh, now, excuse, me, sir, gobl..."
      ]
     },
     "execution_count": 70,
     "metadata": {},
     "output_type": "execute_result"
    }
   ],
   "source": [
    "corpus.head()"
   ]
  },
  {
   "cell_type": "code",
   "execution_count": 78,
   "metadata": {},
   "outputs": [
    {
     "data": {
      "text/plain": [
       "488865"
      ]
     },
     "execution_count": 78,
     "metadata": {},
     "output_type": "execute_result"
    }
   ],
   "source": [
    "len(corpus.loc[\"griffin\"].lines)"
   ]
  },
  {
   "cell_type": "code",
   "execution_count": 81,
   "metadata": {},
   "outputs": [],
   "source": [
    "worddict = gensim.corpora.Dictionary(corpus['lines'])"
   ]
  },
  {
   "cell_type": "code",
   "execution_count": 83,
   "metadata": {},
   "outputs": [
    {
     "data": {
      "text/plain": [
       "27762"
      ]
     },
     "execution_count": 83,
     "metadata": {},
     "output_type": "execute_result"
    }
   ],
   "source": [
    "len(worddict)"
   ]
  },
  {
   "cell_type": "code",
   "execution_count": 88,
   "metadata": {},
   "outputs": [],
   "source": [
    "bow_list = [worddict.doc2bow(bw) for bw in corpus['lines']]"
   ]
  },
  {
   "cell_type": "code",
   "execution_count": 89,
   "metadata": {},
   "outputs": [],
   "source": [
    "tfidf = gensim.models.TfidfModel(bow_list)"
   ]
  },
  {
   "cell_type": "code",
   "execution_count": 92,
   "metadata": {},
   "outputs": [],
   "source": [
    "sims = gensim.similarities.Similarity('',tfidf[bow_list],num_features=len(worddict))"
   ]
  },
  {
   "cell_type": "code",
   "execution_count": 94,
   "metadata": {},
   "outputs": [],
   "source": [
    "sim_list = []\n",
    "for i in range(24):\n",
    "    query = worddict.doc2bow(corpus[\"lines\"][i])\n",
    "    query_tf_idf = tfidf[query]\n",
    "    sim_list.append(sims[query_tf_idf])\n",
    "    \n",
    "corr_df = pd.DataFrame()\n",
    "j=0\n",
    "for i in corpus.index:\n",
    "    corr_df[i] = sim_list[j]\n",
    "    j = j + 1  "
   ]
  },
  {
   "cell_type": "code",
   "execution_count": 106,
   "metadata": {},
   "outputs": [],
   "source": [
    "cropped = corr_df.iloc[:8,:8]"
   ]
  },
  {
   "cell_type": "code",
   "execution_count": 108,
   "metadata": {},
   "outputs": [
    {
     "data": {
      "image/png": "[encoded data removed]",
      "text/plain": [
       "<Figure size 864x864 with 2 Axes>"
      ]
     },
     "metadata": {
      "needs_background": "light"
     },
     "output_type": "display_data"
    }
   ],
   "source": [
    "fig, ax = plt.subplots(figsize=(12,12))\n",
    "sns.heatmap(cropped,ax=ax,annot=True)\n",
    "ax.set_yticklabels(cropped.columns, rotation=0)\n",
    "plt.savefig('similarity.png')\n",
    "plt.show()"
   ]
  },
  {
   "cell_type": "code",
   "execution_count": 145,
   "metadata": {
    "scrolled": true
   },
   "outputs": [],
   "source": [
    "small_df = taz[(taz.speaker == \"griffin\")|(taz.speaker == \"travis\")|(taz.speaker == \"justin\")|(taz.speaker == \"clint\")]\n"
   ]
  },
  {
   "cell_type": "code",
   "execution_count": 146,
   "metadata": {},
   "outputs": [
    {
     "name": "stderr",
     "output_type": "stream",
     "text": [
      "/home/peter/anaconda3/lib/python3.7/site-packages/pandas/core/frame.py:3697: SettingWithCopyWarning: \n",
      "A value is trying to be set on a copy of a slice from a DataFrame\n",
      "\n",
      "See the caveats in the documentation: http://pandas.pydata.org/pandas-docs/stable/indexing.html#indexing-view-versus-copy\n",
      "  errors=errors)\n"
     ]
    }
   ],
   "source": [
    "small_df.drop(columns=[\"line_num\", \"episode\"], inplace=True)"
   ]
  },
  {
   "cell_type": "code",
   "execution_count": 147,
   "metadata": {},
   "outputs": [
    {
     "data": {
      "text/html": [
       "<div>\n",
       "<style scoped>\n",
       "    .dataframe tbody tr th:only-of-type {\n",
       "        vertical-align: middle;\n",
       "    }\n",
       "\n",
       "    .dataframe tbody tr th {\n",
       "        vertical-align: top;\n",
       "    }\n",
       "\n",
       "    .dataframe thead th {\n",
       "        text-align: right;\n",
       "    }\n",
       "</style>\n",
       "<table border=\"1\" class=\"dataframe\">\n",
       "  <thead>\n",
       "    <tr style=\"text-align: right;\">\n",
       "      <th></th>\n",
       "      <th>speaker</th>\n",
       "      <th>lines</th>\n",
       "    </tr>\n",
       "  </thead>\n",
       "  <tbody>\n",
       "    <tr>\n",
       "      <th>11</th>\n",
       "      <td>griffin</td>\n",
       "      <td>so well lets talk about the classes were play...</td>\n",
       "    </tr>\n",
       "    <tr>\n",
       "      <th>12</th>\n",
       "      <td>travis</td>\n",
       "      <td>were gonna get just demolished</td>\n",
       "    </tr>\n",
       "    <tr>\n",
       "      <th>13</th>\n",
       "      <td>griffin</td>\n",
       "      <td>yeah youre gonna get wrecked ill be dungeon m...</td>\n",
       "    </tr>\n",
       "    <tr>\n",
       "      <th>14</th>\n",
       "      <td>justin</td>\n",
       "      <td>quietly tell that to nirvana</td>\n",
       "    </tr>\n",
       "    <tr>\n",
       "      <th>15</th>\n",
       "      <td>griffin</td>\n",
       "      <td>what am i telling to nirvana</td>\n",
       "    </tr>\n",
       "  </tbody>\n",
       "</table>\n",
       "</div>"
      ],
      "text/plain": [
       "    speaker                                              lines\n",
       "11  griffin   so well lets talk about the classes were play...\n",
       "12   travis                     were gonna get just demolished\n",
       "13  griffin   yeah youre gonna get wrecked ill be dungeon m...\n",
       "14   justin                       quietly tell that to nirvana\n",
       "15  griffin                       what am i telling to nirvana"
      ]
     },
     "execution_count": 147,
     "metadata": {},
     "output_type": "execute_result"
    }
   ],
   "source": [
    "small_df.head()"
   ]
  },
  {
   "cell_type": "code",
   "execution_count": 148,
   "metadata": {},
   "outputs": [],
   "source": [
    "X = small_df.lines\n",
    "y = small_df.speaker"
   ]
  },
  {
   "cell_type": "code",
   "execution_count": 150,
   "metadata": {},
   "outputs": [],
   "source": [
    "def text_process(dialogue):\n",
    "    punc = re.compile(r\"[^a-z0-9 ]\")\n",
    "    nopunc = re.sub(pattern=punc, repl=\"\", string=dialogue)\n",
    "    return [word for word in nopunc.split()]\n",
    "\n",
    "vectorize = text.TfidfVectorizer(analyzer=text_process).fit(X)"
   ]
  },
  {
   "cell_type": "code",
   "execution_count": 152,
   "metadata": {},
   "outputs": [
    {
     "name": "stdout",
     "output_type": "stream",
     "text": [
      "24412\n"
     ]
    }
   ],
   "source": [
    "print(len(vectorize.vocabulary_))\n",
    "X = vectorize.transform(X)"
   ]
  },
  {
   "cell_type": "code",
   "execution_count": 153,
   "metadata": {},
   "outputs": [],
   "source": [
    "from sklearn.model_selection import train_test_split\n",
    "X_train, X_test, y_train, y_test = train_test_split(X, y, test_size=0.1, random_state=1234)"
   ]
  },
  {
   "cell_type": "code",
   "execution_count": 154,
   "metadata": {},
   "outputs": [],
   "source": [
    "from sklearn.linear_model import LogisticRegression\n",
    "\n",
    "lr = LogisticRegression(random_state=1234)"
   ]
  },
  {
   "cell_type": "code",
   "execution_count": 155,
   "metadata": {},
   "outputs": [
    {
     "data": {
      "text/plain": [
       "LogisticRegression(C=1.0, class_weight=None, dual=False, fit_intercept=True,\n",
       "          intercept_scaling=1, max_iter=100, multi_class='ovr', n_jobs=1,\n",
       "          penalty='l2', random_state=1234, solver='liblinear', tol=0.0001,\n",
       "          verbose=0, warm_start=False)"
      ]
     },
     "execution_count": 155,
     "metadata": {},
     "output_type": "execute_result"
    }
   ],
   "source": [
    "lr.fit(X_train, y_train)"
   ]
  },
  {
   "cell_type": "code",
   "execution_count": 158,
   "metadata": {},
   "outputs": [],
   "source": [
    "predict = lr.predict(X_test)"
   ]
  },
  {
   "cell_type": "code",
   "execution_count": 161,
   "metadata": {},
   "outputs": [
    {
     "data": {
      "text/plain": [
       "0.5526169779914926"
      ]
     },
     "execution_count": 161,
     "metadata": {},
     "output_type": "execute_result"
    }
   ],
   "source": [
    "sum(predict == y_test)/len(predict)"
   ]
  },
  {
   "cell_type": "code",
   "execution_count": 162,
   "metadata": {},
   "outputs": [],
   "source": [
    "from sklearn.metrics import confusion_matrix, classification_report"
   ]
  },
  {
   "cell_type": "code",
   "execution_count": 164,
   "metadata": {},
   "outputs": [
    {
     "name": "stdout",
     "output_type": "stream",
     "text": [
      "             precision    recall  f1-score   support\n",
      "\n",
      "      clint       0.29      0.43      0.35       619\n",
      "    griffin       0.83      0.65      0.73      2990\n",
      "     justin       0.23      0.39      0.29       538\n",
      "     travis       0.47      0.46      0.46      1260\n",
      "\n",
      "avg / total       0.62      0.55      0.58      5407\n",
      "\n"
     ]
    }
   ],
   "source": [
    "print(classification_report(predict, y_test))"
   ]
  },
  {
   "cell_type": "code",
   "execution_count": 167,
   "metadata": {},
   "outputs": [],
   "source": []
  },
  {
   "cell_type": "code",
   "execution_count": 178,
   "metadata": {},
   "outputs": [],
   "source": [
    "from sklearn.naive_bayes import MultinomialNB as MNB\n",
    "from sklearn.linear_model import LogisticRegression as LR\n",
    "from sklearn.ensemble import RandomForestClassifier as RFC\n",
    "from sklearn.ensemble import VotingClassifier as VC\n",
    "mnb = MNB(alpha=10)\n",
    "lr = LR(random_state=101)\n",
    "rfc = RFC(n_estimators=80, criterion=\"entropy\", random_state=42, n_jobs=-1)\n",
    "clf = VC(estimators=[('mnb', mnb), ('lr', lr), ('rfc', rfc)], voting='hard')"
   ]
  },
  {
   "cell_type": "code",
   "execution_count": 179,
   "metadata": {},
   "outputs": [
    {
     "name": "stdout",
     "output_type": "stream",
     "text": [
      "             precision    recall  f1-score   support\n",
      "\n",
      "      clint       0.31      0.42      0.36       685\n",
      "    griffin       0.90      0.55      0.68      3844\n",
      "     justin       0.08      0.47      0.14       154\n",
      "     travis       0.31      0.52      0.39       724\n",
      "\n",
      "avg / total       0.73      0.53      0.59      5407\n",
      "\n"
     ]
    }
   ],
   "source": [
    "clf.fit(X_train, y_train)\n",
    "predict = clf.predict(X_test)\n",
    "\n",
    "print(classification_report(predict, y_test))"
   ]
  },
  {
   "cell_type": "code",
   "execution_count": 181,
   "metadata": {},
   "outputs": [],
   "source": [
    "def predictor(s):\n",
    "    s = [s]\n",
    "    s = vectorize.transform(s)\n",
    "    pre = clf.predict(s)\n",
    "    print(pre)"
   ]
  },
  {
   "cell_type": "code",
   "execution_count": 182,
   "metadata": {},
   "outputs": [
    {
     "name": "stdout",
     "output_type": "stream",
     "text": [
      "['travis']\n"
     ]
    }
   ],
   "source": [
    "predictor(\"magnus rushes in\")"
   ]
  },
  {
   "cell_type": "code",
   "execution_count": 183,
   "metadata": {},
   "outputs": [
    {
     "name": "stdout",
     "output_type": "stream",
     "text": [
      "['clint']\n"
     ]
    }
   ],
   "source": [
    "predictor(\"welcome to the adventure zone\")"
   ]
  },
  {
   "cell_type": "code",
   "execution_count": 184,
   "metadata": {},
   "outputs": [
    {
     "name": "stdout",
     "output_type": "stream",
     "text": [
      "['travis']\n"
     ]
    }
   ],
   "source": [
    "predictor(\"i am your dungeon master\")"
   ]
  },
  {
   "cell_type": "code",
   "execution_count": 185,
   "metadata": {},
   "outputs": [
    {
     "name": "stdout",
     "output_type": "stream",
     "text": [
      "['clint']\n"
     ]
    }
   ],
   "source": [
    "predictor(\"merle casts zone of truth\")"
   ]
  },
  {
   "cell_type": "code",
   "execution_count": 188,
   "metadata": {},
   "outputs": [
    {
     "name": "stderr",
     "output_type": "stream",
     "text": [
      "Using TensorFlow backend.\n"
     ]
    }
   ],
   "source": [
    "import keras\n",
    "from keras.models import Sequential\n",
    "from keras.layers import Dense, Activation, Dropout\n",
    "from keras.preprocessing.text import Tokenizer"
   ]
  },
  {
   "cell_type": "code",
   "execution_count": 189,
   "metadata": {},
   "outputs": [],
   "source": [
    "# Encoding categorical data using label encoding and one-hot encoding \n",
    "from sklearn.preprocessing import LabelEncoder, OneHotEncoder\n",
    "labelencoder_X_1 = LabelEncoder()\n",
    "y = labelencoder_X_1.fit_transform(y)\n",
    "y = y.reshape(-1,1)\n",
    "onehotencoder = OneHotEncoder(categorical_features = [0])\n",
    "y = onehotencoder.fit_transform(y).toarray()\n",
    "# This would transform the dependent variable into a 3-column matrix, first for Elaine, second for George and third for Kramer "
   ]
  },
  {
   "cell_type": "code",
   "execution_count": 197,
   "metadata": {},
   "outputs": [],
   "source": [
    "# Splitting the data again into train and test set\n",
    "from sklearn.model_selection import train_test_split\n",
    "X_train, X_test, y_train, y_test = train_test_split(X, y, test_size=0.1, random_state=1234)\n",
    "\n",
    "\n",
    "max_words = len(vectorize.vocabulary_)\n",
    "num_classes = 4\n",
    "\n",
    "model = Sequential()\n",
    "model.add(Dense(512, input_shape=(max_words,)))\n",
    "model.add(Activation('relu'))\n",
    "model.add(Dropout(0.5))\n",
    "model.add(Dense(256, input_shape=(max_words,)))\n",
    "model.add(Activation('relu'))\n",
    "model.add(Dropout(0.5))\n",
    "model.add(Dense(128, input_shape=(max_words,)))\n",
    "model.add(Activation('relu'))\n",
    "model.add(Dropout(0.5))\n",
    "model.add(Dense(num_classes))\n",
    "model.add(Activation('softmax'))"
   ]
  },
  {
   "cell_type": "code",
   "execution_count": 198,
   "metadata": {},
   "outputs": [],
   "source": [
    "model.compile(loss='binary_crossentropy', optimizer='adam', metrics=['accuracy'])"
   ]
  },
  {
   "cell_type": "code",
   "execution_count": 199,
   "metadata": {},
   "outputs": [
    {
     "name": "stdout",
     "output_type": "stream",
     "text": [
      "Epoch 1/10\n",
      "48656/48656 [==============================] - 42s 861us/step - loss: 0.4712 - acc: 0.7925\n",
      "Epoch 2/10\n",
      "48656/48656 [==============================] - 43s 890us/step - loss: 0.4159 - acc: 0.8140\n",
      "Epoch 3/10\n",
      "48656/48656 [==============================] - 43s 885us/step - loss: 0.3563 - acc: 0.8422\n",
      "Epoch 4/10\n",
      "48656/48656 [==============================] - 43s 883us/step - loss: 0.2944 - acc: 0.8759\n",
      "Epoch 5/10\n",
      "48656/48656 [==============================] - 43s 877us/step - loss: 0.2413 - acc: 0.8999\n",
      "Epoch 6/10\n",
      "48656/48656 [==============================] - 44s 912us/step - loss: 0.2054 - acc: 0.9149\n",
      "Epoch 7/10\n",
      "48656/48656 [==============================] - 42s 866us/step - loss: 0.1798 - acc: 0.9256\n",
      "Epoch 8/10\n",
      "48656/48656 [==============================] - 42s 865us/step - loss: 0.1659 - acc: 0.9309\n",
      "Epoch 9/10\n",
      "48656/48656 [==============================] - 42s 864us/step - loss: 0.1535 - acc: 0.9358\n",
      "Epoch 10/10\n",
      "48656/48656 [==============================] - 42s 863us/step - loss: 0.1445 - acc: 0.9394\n"
     ]
    },
    {
     "data": {
      "text/plain": [
       "<keras.callbacks.History at 0x7f1920547400>"
      ]
     },
     "execution_count": 199,
     "metadata": {},
     "output_type": "execute_result"
    }
   ],
   "source": [
    "model.fit(X_train, y_train, epochs=10, batch_size=256)"
   ]
  },
  {
   "cell_type": "code",
   "execution_count": 200,
   "metadata": {},
   "outputs": [
    {
     "name": "stdout",
     "output_type": "stream",
     "text": [
      "Epoch 1/10\n",
      "5407/5407 [==============================] - 5s 875us/step - loss: 0.5365 - acc: 0.7899\n",
      "Epoch 2/10\n",
      "5407/5407 [==============================] - 5s 868us/step - loss: 0.3902 - acc: 0.8264\n",
      "Epoch 3/10\n",
      "5407/5407 [==============================] - 5s 878us/step - loss: 0.3062 - acc: 0.8663\n",
      "Epoch 4/10\n",
      "5407/5407 [==============================] - 5s 870us/step - loss: 0.2403 - acc: 0.8969\n",
      "Epoch 5/10\n",
      "5407/5407 [==============================] - 5s 874us/step - loss: 0.1945 - acc: 0.9190\n",
      "Epoch 6/10\n",
      "5407/5407 [==============================] - 5s 879us/step - loss: 0.1550 - acc: 0.9361\n",
      "Epoch 7/10\n",
      "5407/5407 [==============================] - 5s 871us/step - loss: 0.1322 - acc: 0.9485\n",
      "Epoch 8/10\n",
      "5407/5407 [==============================] - 5s 879us/step - loss: 0.1096 - acc: 0.9558\n",
      "Epoch 9/10\n",
      "5407/5407 [==============================] - 5s 880us/step - loss: 0.0987 - acc: 0.9599\n",
      "Epoch 10/10\n",
      "5407/5407 [==============================] - 5s 880us/step - loss: 0.0924 - acc: 0.9636\n"
     ]
    },
    {
     "data": {
      "text/plain": [
       "<keras.callbacks.History at 0x7f1920547208>"
      ]
     },
     "execution_count": 200,
     "metadata": {},
     "output_type": "execute_result"
    }
   ],
   "source": [
    "model.fit(X_test, y_test, epochs=10, batch_size=256)"
   ]
  },
  {
   "cell_type": "code",
   "execution_count": 231,
   "metadata": {},
   "outputs": [],
   "source": [
    "\n",
    "def predict_line(example_line):\n",
    "    example_line = example_line.lower()\n",
    "    patt = re.compile(r\"[^a-z0-9 ]\")\n",
    "    example_line = re.sub(pattern=patt, repl=\"\", string=example_line)\n",
    "    trns = vectorize.transform([example_line])\n",
    "    prediction = model.predict(trns)[0]\n",
    "    speakerlist = [\"clint\", \"griffin\", \"justin\", \"travis\"]\n",
    "    for i in range(len(speakerlist)):\n",
    "        print(f\"{speakerlist[i]}: {prediction[i]:.2f}\")"
   ]
  },
  {
   "cell_type": "code",
   "execution_count": 222,
   "metadata": {},
   "outputs": [
    {
     "name": "stdout",
     "output_type": "stream",
     "text": [
      "clint: 0.12\n",
      "griffin: 0.02\n",
      "justin: 0.02\n",
      "travis: 0.84\n"
     ]
    }
   ],
   "source": [
    "predict_line(\"magnus rushes in\")"
   ]
  },
  {
   "cell_type": "code",
   "execution_count": 223,
   "metadata": {},
   "outputs": [
    {
     "name": "stdout",
     "output_type": "stream",
     "text": [
      "clint: 0.16\n",
      "griffin: 0.02\n",
      "justin: 0.05\n",
      "travis: 0.77\n"
     ]
    }
   ],
   "source": [
    "predict_line(\"im your dungeon master\")"
   ]
  },
  {
   "cell_type": "code",
   "execution_count": 224,
   "metadata": {},
   "outputs": [
    {
     "name": "stdout",
     "output_type": "stream",
     "text": [
      "clint: 1.00\n",
      "griffin: 0.00\n",
      "justin: 0.00\n",
      "travis: 0.00\n"
     ]
    }
   ],
   "source": [
    "predict_line(\"merle casts zone of truth\")"
   ]
  },
  {
   "cell_type": "code",
   "execution_count": 226,
   "metadata": {},
   "outputs": [
    {
     "name": "stdout",
     "output_type": "stream",
     "text": [
      "clint: 0.89\n",
      "griffin: 0.01\n",
      "justin: 0.07\n",
      "travis: 0.03\n"
     ]
    }
   ],
   "source": [
    "predict_line(\"taako discovers ground beef\")"
   ]
  },
  {
   "cell_type": "code",
   "execution_count": 227,
   "metadata": {},
   "outputs": [
    {
     "name": "stdout",
     "output_type": "stream",
     "text": [
      "clint: 0.01\n",
      "griffin: 0.00\n",
      "justin: 0.04\n",
      "travis: 0.95\n"
     ]
    }
   ],
   "source": [
    "predict_line(\"griffin shut up\")"
   ]
  },
  {
   "cell_type": "code",
   "execution_count": 228,
   "metadata": {},
   "outputs": [
    {
     "name": "stdout",
     "output_type": "stream",
     "text": [
      "clint: 0.04\n",
      "griffin: 0.01\n",
      "justin: 0.93\n",
      "travis: 0.02\n"
     ]
    }
   ],
   "source": [
    "predict_line(\"roll for initiative\")"
   ]
  },
  {
   "cell_type": "code",
   "execution_count": 229,
   "metadata": {},
   "outputs": [
    {
     "name": "stdout",
     "output_type": "stream",
     "text": [
      "clint: 0.00\n",
      "griffin: 0.98\n",
      "justin: 0.00\n",
      "travis: 0.01\n"
     ]
    }
   ],
   "source": [
    "predict_line(\"the goblins attack\")"
   ]
  },
  {
   "cell_type": "code",
   "execution_count": 230,
   "metadata": {},
   "outputs": [
    {
     "name": "stdout",
     "output_type": "stream",
     "text": [
      "clint: 0.01\n",
      "griffin: 0.90\n",
      "justin: 0.05\n",
      "travis: 0.04\n"
     ]
    }
   ],
   "source": [
    "predict_line(\"fuck you\")"
   ]
  },
  {
   "cell_type": "code",
   "execution_count": 232,
   "metadata": {},
   "outputs": [
    {
     "name": "stdout",
     "output_type": "stream",
     "text": [
      "clint: 0.00\n",
      "griffin: 0.00\n",
      "justin: 0.97\n",
      "travis: 0.02\n"
     ]
    }
   ],
   "source": [
    "predict_line(\"I’m taking off my headphones, I don’t want to hear this\")"
   ]
  },
  {
   "cell_type": "code",
   "execution_count": 233,
   "metadata": {},
   "outputs": [
    {
     "name": "stdout",
     "output_type": "stream",
     "text": [
      "clint: 0.01\n",
      "griffin: 0.01\n",
      "justin: 0.94\n",
      "travis: 0.04\n"
     ]
    }
   ],
   "source": [
    "predict_line(\"Wait, stop, Griffin. Not a sound effect\")"
   ]
  },
  {
   "cell_type": "code",
   "execution_count": 234,
   "metadata": {},
   "outputs": [
    {
     "name": "stdout",
     "output_type": "stream",
     "text": [
      "clint: 0.75\n",
      "griffin: 0.15\n",
      "justin: 0.02\n",
      "travis: 0.07\n"
     ]
    }
   ],
   "source": [
    "predict_line(\"No, Justin, that was the sound of a radio playing and somebody on the radio was saying Get outta there!\")"
   ]
  },
  {
   "cell_type": "code",
   "execution_count": 235,
   "metadata": {},
   "outputs": [
    {
     "name": "stdout",
     "output_type": "stream",
     "text": [
      "clint: 0.07\n",
      "griffin: 0.57\n",
      "justin: 0.35\n",
      "travis: 0.01\n"
     ]
    }
   ],
   "source": [
    "predict_line(\"Ned grabs a scalpel off of one of the nearby examining trays.\")"
   ]
  },
  {
   "cell_type": "code",
   "execution_count": 236,
   "metadata": {},
   "outputs": [
    {
     "name": "stdout",
     "output_type": "stream",
     "text": [
      "clint: 0.01\n",
      "griffin: 0.18\n",
      "justin: 0.07\n",
      "travis: 0.74\n"
     ]
    }
   ],
   "source": [
    "predict_line(\"Dad rolled a twelve.\")"
   ]
  },
  {
   "cell_type": "code",
   "execution_count": 237,
   "metadata": {},
   "outputs": [
    {
     "name": "stdout",
     "output_type": "stream",
     "text": [
      "clint: 0.01\n",
      "griffin: 0.00\n",
      "justin: 0.01\n",
      "travis: 0.98\n"
     ]
    }
   ],
   "source": [
    "predict_line(\"Twelve and I also add one, so that’s a hard thirteen.\")"
   ]
  },
  {
   "cell_type": "code",
   "execution_count": 238,
   "metadata": {},
   "outputs": [
    {
     "name": "stdout",
     "output_type": "stream",
     "text": [
      "clint: 0.00\n",
      "griffin: 0.96\n",
      "justin: 0.02\n",
      "travis: 0.01\n"
     ]
    }
   ],
   "source": [
    "predict_line(\"That surprised you; that really surprised you, didn’t it? That I knew the rules\")"
   ]
  },
  {
   "cell_type": "code",
   "execution_count": 239,
   "metadata": {},
   "outputs": [
    {
     "name": "stdout",
     "output_type": "stream",
     "text": [
      "clint: 0.00\n",
      "griffin: 0.99\n",
      "justin: 0.01\n",
      "travis: 0.00\n"
     ]
    }
   ],
   "source": [
    "predict_line(\"He is impressed by your level of commitment to the bit\")\n"
   ]
  },
  {
   "cell_type": "code",
   "execution_count": 241,
   "metadata": {},
   "outputs": [
    {
     "name": "stdout",
     "output_type": "stream",
     "text": [
      "clint: 0.00\n",
      "griffin: 1.00\n",
      "justin: 0.00\n",
      "travis: 0.00\n"
     ]
    }
   ],
   "source": [
    "predict_line(\"Okay. With that, that counts as a success; it pops off without issues. You choose your effect. I’m going to… we’re gonna have to decide what the effect is together because you can’t just be like “he’s imprisoned in an impervious crystal”, you know. I don’t think that that is something that Aubrey has proven that she can do, but also like, it’s sort of God-mode, which I don’t know-- \")"
   ]
  },
  {
   "cell_type": "code",
   "execution_count": 242,
   "metadata": {},
   "outputs": [
    {
     "name": "stdout",
     "output_type": "stream",
     "text": [
      "clint: 0.00\n",
      "griffin: 0.00\n",
      "justin: 0.00\n",
      "travis: 0.99\n"
     ]
    }
   ],
   "source": [
    "predict_line(\"So more of like, I would say that… as it moves forward, the ‘equal and opposite reaction’ thing kicks in. And the wind is pushing it away from Ned\")"
   ]
  },
  {
   "cell_type": "code",
   "execution_count": 243,
   "metadata": {},
   "outputs": [
    {
     "name": "stdout",
     "output_type": "stream",
     "text": [
      "clint: 0.01\n",
      "griffin: 0.32\n",
      "justin: 0.61\n",
      "travis: 0.06\n"
     ]
    }
   ],
   "source": [
    "predict_line(\"I’m sorry, I’m getting some sort of like, pop-up constantly asking me to look for a mp3 file and I don’t know what it is. [clicking noises] Okay\")"
   ]
  },
  {
   "cell_type": "code",
   "execution_count": 244,
   "metadata": {},
   "outputs": [
    {
     "name": "stdout",
     "output_type": "stream",
     "text": [
      "clint: 0.00\n",
      "griffin: 1.00\n",
      "justin: 0.00\n",
      "travis: 0.00\n"
     ]
    }
   ],
   "source": [
    "predict_line(\"Alright, that gets you up to a mixed success. You are going to get under this table, right? I have to give you a worse outcome, hard choice or price to pay. The hard choice is, there’s two tables, right? There were two operating tables there. You can either jump under the one that is closer to the corner that he was just knocked into and have a less stealthy place, like a not great, perfect hiding place. Or you can jump under the one that is further from where he is, but you won’t be able to get as much hard info on it. So that’s your hard choice. Two tables. It’s about as good a world binary as we can get.\")"
   ]
  },
  {
   "cell_type": "code",
   "execution_count": 245,
   "metadata": {},
   "outputs": [
    {
     "name": "stdout",
     "output_type": "stream",
     "text": [
      "clint: 0.00\n",
      "griffin: 0.01\n",
      "justin: 0.00\n",
      "travis: 0.98\n"
     ]
    }
   ],
   "source": [
    "predict_line(\"Just to clarify, because one of the tags on Snitch is Volatile. Aubrey is very complimentary and thankful to Snitch so that it doesn’t get upset. That’s what I’ve determined ‘Volatile’ means in regards to the magic flying knife.\")"
   ]
  },
  {
   "cell_type": "code",
   "execution_count": 246,
   "metadata": {},
   "outputs": [
    {
     "name": "stdout",
     "output_type": "stream",
     "text": [
      "clint: 0.31\n",
      "griffin: 0.00\n",
      "justin: 0.01\n",
      "travis: 0.68\n"
     ]
    }
   ],
   "source": [
    "predict_line(\"Now, Justin, I have a question, based on something we learned last episode. Every time Duck draws Beacon, is he at risk of his pants falling down?\")"
   ]
  },
  {
   "cell_type": "code",
   "execution_count": 248,
   "metadata": {},
   "outputs": [
    {
     "name": "stdout",
     "output_type": "stream",
     "text": [
      "clint: 0.00\n",
      "griffin: 1.00\n",
      "justin: 0.00\n",
      "travis: 0.00\n"
     ]
    }
   ],
   "source": [
    "predict_line(\"Okay, Ned, being an accomplished thief, reaches towards this scary horrible monster’s big hairy ass and grabs the key card, and swipes it!\")"
   ]
  },
  {
   "cell_type": "code",
   "execution_count": 249,
   "metadata": {},
   "outputs": [
    {
     "name": "stdout",
     "output_type": "stream",
     "text": [
      "clint: 0.00\n",
      "griffin: 0.80\n",
      "justin: 0.15\n",
      "travis: 0.04\n"
     ]
    }
   ],
   "source": [
    "predict_line(\"Okay, roll to ‘Act Under Pressure’.\")"
   ]
  },
  {
   "cell_type": "code",
   "execution_count": 250,
   "metadata": {},
   "outputs": [
    {
     "name": "stdout",
     "output_type": "stream",
     "text": [
      "clint: 0.04\n",
      "griffin: 0.04\n",
      "justin: 0.90\n",
      "travis: 0.02\n"
     ]
    }
   ],
   "source": [
    "predict_line(\"Okay, roll for initiative\")"
   ]
  },
  {
   "cell_type": "code",
   "execution_count": null,
   "metadata": {},
   "outputs": [],
   "source": []
  }
 ],
 "metadata": {
  "kernelspec": {
   "display_name": "Python 3",
   "language": "python",
   "name": "python3"
  },
  "language_info": {
   "codemirror_mode": {
    "name": "ipython",
    "version": 3
   },
   "file_extension": ".py",
   "mimetype": "text/x-python",
   "name": "python",
   "nbconvert_exporter": "python",
   "pygments_lexer": "ipython3",
   "version": "3.7.0"
  }
 },
 "nbformat": 4,
 "nbformat_minor": 2
}
