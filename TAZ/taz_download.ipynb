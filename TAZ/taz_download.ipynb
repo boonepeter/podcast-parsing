{
 "cells": [
  {
   "cell_type": "code",
   "execution_count": null,
   "metadata": {},
   "outputs": [],
   "source": [
    "import os\n",
    "import requests\n",
    "import re\n",
    "import pandas as pd\n",
    "\n",
    "from bs4 import BeautifulSoup"
   ]
  },
  {
   "cell_type": "code",
   "execution_count": null,
   "metadata": {},
   "outputs": [],
   "source": [
    "tracking_doc_url = \"https://docs.google.com/document/d/e/2PACX-1vT5IOvuFz988qAbP2P5ELDIekf4mUdfBsF1LGGW8CxMcry0YjJ34H1iFYN1qx0B7eYPUzw4CiSd8kbM/pub\"\n",
    "tracking_html = requests.get(tracking_doc_url)\n"
   ]
  },
  {
   "cell_type": "code",
   "execution_count": null,
   "metadata": {},
   "outputs": [],
   "source": [
    "tracking_beautiful = BeautifulSoup(tracking_html.text)"
   ]
  },
  {
   "cell_type": "code",
   "execution_count": null,
   "metadata": {},
   "outputs": [],
   "source": [
    "rows = tracking_beautiful.findAll('tr')"
   ]
  },
  {
   "cell_type": "code",
   "execution_count": null,
   "metadata": {},
   "outputs": [],
   "source": [
    "completed_links = {}"
   ]
  },
  {
   "cell_type": "code",
   "execution_count": null,
   "metadata": {},
   "outputs": [],
   "source": [
    "for row in rows:\n",
    "    if row.text.endswith('100%'):\n",
    "        a = row.find('a')\n",
    "        completed_links[a.text] = a['href']"
   ]
  },
  {
   "cell_type": "code",
   "execution_count": null,
   "metadata": {},
   "outputs": [],
   "source": [
    "def google_doc_download(docID, download_as='txt'):\n",
    "    return 'https://docs.google.com/document/d/' + docID + '/export?format=' + download_as"
   ]
  },
  {
   "cell_type": "code",
   "execution_count": null,
   "metadata": {},
   "outputs": [],
   "source": [
    "for episode, link in completed_links.items():\n",
    "    try:\n",
    "        docID = re.search(string=link, pattern=r'(?:/d/|id%3D)(.*?)(?:/|&)')[1]\n",
    "    except:\n",
    "        print(f\"{episode} didn't download ({link})\")\n",
    "        continue\n",
    "    download_link = google_doc_download(docID, download_as='txt')\n",
    "    with open(os.path.join(os.getcwd(), 'data', episode + '.txt'), 'w') as openfile:\n",
    "        document = requests.get(download_link)\n",
    "        openfile.write(document.text)\n"
   ]
  },
  {
   "cell_type": "code",
   "execution_count": null,
   "metadata": {},
   "outputs": [],
   "source": [
    "docs = os.listdir('./data')\n",
    "docs[:5]"
   ]
  },
  {
   "cell_type": "code",
   "execution_count": null,
   "metadata": {},
   "outputs": [],
   "source": [
    "for script in docs:\n",
    "    with open(os.path.join(os.getcwd(), 'data', script)) as myfile:\n",
    "        onefile = pd.read_csv(myfile, sep='\\n', header=None)\n",
    "    onefile[:][0] = onefile[:][0].str.lower()\n",
    "    onefile = pd.DataFrame(onefile[0].str.split(':', expand=True))\n",
    "    onefile = onefile.fillna('')\n",
    "    onefile.iloc[:,1] = onefile.iloc[:,1].astype(str).str.cat(onefile.iloc[:,2:])\n",
    "    onefile = onefile.drop(columns=[i for i in range(2, len(onefile.columns))])\n",
    "    try:\n",
    "        epnum = int(re.search(string=script, pattern=r'[\\d]+')[0])\n",
    "    except:\n",
    "        print(script)\n",
    "        continue\n",
    "    onefile['episode'] = epnum\n",
    "    onefile.columns = ['speaker', 'lines', 'episode']\n",
    "    try:\n",
    "        onefile = onefile.iloc[onefile[onefile.speaker.str.startswith('[theme')].index[0] + 2:]\n",
    "    except:\n",
    "        pass\n",
    "    onefile.speaker = onefile.speaker.str.strip()\n",
    "    onefile = onefile[-onefile.speaker.str.contains('[\\[\\,\\.\\&\\-\\{\\%]|and')]\n",
    "    onefile = onefile[['episode', 'speaker', 'lines']]\n",
    "    onefile.reset_index(inplace=True, drop=True)\n",
    "    onefile.to_csv(os.path.join(os.getcwd(), 'export', f'{epnum}.csv'))"
   ]
  },
  {
   "cell_type": "code",
   "execution_count": null,
   "metadata": {},
   "outputs": [],
   "source": [
    "csvs = os.listdir(os.path.join(os.getcwd(), 'export'))"
   ]
  },
  {
   "cell_type": "code",
   "execution_count": null,
   "metadata": {},
   "outputs": [],
   "source": [
    "df = pd.read_csv(os.path.join(os.getcwd(), 'export', csvs[0]))\n",
    "df.columns = ['line_num', 'episode', 'speaker', 'lines']"
   ]
  },
  {
   "cell_type": "code",
   "execution_count": null,
   "metadata": {},
   "outputs": [],
   "source": [
    "df.head()"
   ]
  },
  {
   "cell_type": "code",
   "execution_count": null,
   "metadata": {},
   "outputs": [],
   "source": [
    "for csv in csvs[1:]:\n",
    "    newdf = pd.read_csv(os.path.join(os.getcwd(), 'export', csv))\n",
    "    newdf.columns = ['line_num', 'episode', 'speaker', 'lines']\n",
    "    df = df.append(newdf)"
   ]
  },
  {
   "cell_type": "code",
   "execution_count": null,
   "metadata": {},
   "outputs": [],
   "source": [
    "df.head()"
   ]
  },
  {
   "cell_type": "code",
   "execution_count": null,
   "metadata": {},
   "outputs": [],
   "source": [
    "df.tail()"
   ]
  },
  {
   "cell_type": "code",
   "execution_count": null,
   "metadata": {},
   "outputs": [],
   "source": [
    "df.shape"
   ]
  },
  {
   "cell_type": "code",
   "execution_count": null,
   "metadata": {},
   "outputs": [],
   "source": [
    "df.reset_index(inplace=True, drop=True)"
   ]
  },
  {
   "cell_type": "code",
   "execution_count": null,
   "metadata": {},
   "outputs": [],
   "source": [
    "df = df.sort_values(by=['episode', 'line_num'], ascending=True)"
   ]
  },
  {
   "cell_type": "code",
   "execution_count": null,
   "metadata": {},
   "outputs": [],
   "source": [
    "df.head()"
   ]
  },
  {
   "cell_type": "code",
   "execution_count": null,
   "metadata": {},
   "outputs": [],
   "source": [
    "df.tail()"
   ]
  },
  {
   "cell_type": "code",
   "execution_count": null,
   "metadata": {},
   "outputs": [],
   "source": [
    "df.dtypes"
   ]
  },
  {
   "cell_type": "code",
   "execution_count": null,
   "metadata": {},
   "outputs": [],
   "source": [
    "df.line_num = df.line_num.astype(int)\n",
    "df.episode = df.episode.astype(int)"
   ]
  },
  {
   "cell_type": "code",
   "execution_count": null,
   "metadata": {},
   "outputs": [],
   "source": [
    "df.dtypes"
   ]
  },
  {
   "cell_type": "code",
   "execution_count": null,
   "metadata": {},
   "outputs": [],
   "source": [
    "df.to_csv(os.path.join(os.getcwd(), 'TAZ.csv'))"
   ]
  }
 ],
 "metadata": {
  "kernelspec": {
   "display_name": "Python 3",
   "language": "python",
   "name": "python3"
  },
  "language_info": {
   "codemirror_mode": {
    "name": "ipython",
    "version": 3
   },
   "file_extension": ".py",
   "mimetype": "text/x-python",
   "name": "python",
   "nbconvert_exporter": "python",
   "pygments_lexer": "ipython3",
   "version": "3.7.0"
  }
 },
 "nbformat": 4,
 "nbformat_minor": 2
}
